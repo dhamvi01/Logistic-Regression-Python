{
  "nbformat": 4,
  "nbformat_minor": 0,
  "metadata": {
    "colab": {
      "name": "Logistic Regression.ipynb",
      "provenance": [],
      "collapsed_sections": [],
      "include_colab_link": true
    }
  },
  "cells": [
    {
      "cell_type": "markdown",
      "metadata": {
        "id": "view-in-github",
        "colab_type": "text"
      },
      "source": [
        "<a href=\"https://colab.research.google.com/github/dhamvi01/Logistic-Regression-Python/blob/master/Logistic_Regression.ipynb\" target=\"_parent\"><img src=\"https://colab.research.google.com/assets/colab-badge.svg\" alt=\"Open In Colab\"/></a>"
      ]
    },
    {
      "cell_type": "markdown",
      "metadata": {
        "id": "K1dJodXFsN5g",
        "colab_type": "text"
      },
      "source": [
        "**Load the Datasets**"
      ]
    },
    {
      "cell_type": "code",
      "metadata": {
        "id": "qsh_N3QqSyUl",
        "colab_type": "code",
        "colab": {
          "base_uri": "https://localhost:8080/",
          "height": 34
        },
        "outputId": "e006870e-d1af-45cc-a12e-5cf5f3381320"
      },
      "source": [
        "from sklearn import datasets\n",
        "\n",
        "iris = datasets.load_iris()\n",
        "\n",
        "iris.keys()"
      ],
      "execution_count": null,
      "outputs": [
        {
          "output_type": "execute_result",
          "data": {
            "text/plain": [
              "['target_names', 'data', 'target', 'DESCR', 'feature_names']"
            ]
          },
          "metadata": {
            "tags": []
          },
          "execution_count": 3
        }
      ]
    },
    {
      "cell_type": "markdown",
      "metadata": {
        "id": "Wh1sRtlHsT0a",
        "colab_type": "text"
      },
      "source": [
        "**Split the dataset to train-test-split**"
      ]
    },
    {
      "cell_type": "code",
      "metadata": {
        "id": "61Cm7lErTI7B",
        "colab_type": "code",
        "colab": {
          "base_uri": "https://localhost:8080/",
          "height": 50
        },
        "outputId": "e46c071c-46bf-40a7-bf5d-cdc8cbac91e1"
      },
      "source": [
        "from sklearn.model_selection import train_test_split\n",
        "\n",
        "x_train,x_test,y_train,y_test = train_test_split(iris.data, iris.target, random_state=0)\n",
        "\n",
        "print(iris.data.shape)\n",
        "\n",
        "x_train.shape\n"
      ],
      "execution_count": null,
      "outputs": [
        {
          "output_type": "stream",
          "text": [
            "(150, 4)\n"
          ],
          "name": "stdout"
        },
        {
          "output_type": "execute_result",
          "data": {
            "text/plain": [
              "(112, 4)"
            ]
          },
          "metadata": {
            "tags": []
          },
          "execution_count": 4
        }
      ]
    },
    {
      "cell_type": "markdown",
      "metadata": {
        "id": "qHciTupwsbBv",
        "colab_type": "text"
      },
      "source": [
        "**Import the model function**"
      ]
    },
    {
      "cell_type": "code",
      "metadata": {
        "id": "e_8SfD8-TvO6",
        "colab_type": "code",
        "colab": {
          "base_uri": "https://localhost:8080/",
          "height": 50
        },
        "outputId": "90033429-956c-4c7e-86f8-4d223a477133"
      },
      "source": [
        "from sklearn.linear_model import LogisticRegression\n",
        "\n",
        "model = LogisticRegression()\n",
        "model.fit(x_train,y_train)\n",
        "\n",
        "print(model.score(x_train,y_train))\n",
        "\n",
        "pred = model.predict(x_test)\n",
        "\n",
        "model.score(x_test,y_test)"
      ],
      "execution_count": null,
      "outputs": [
        {
          "output_type": "stream",
          "text": [
            "0.9464285714285714\n"
          ],
          "name": "stdout"
        },
        {
          "output_type": "execute_result",
          "data": {
            "text/plain": [
              "0.868421052631579"
            ]
          },
          "metadata": {
            "tags": []
          },
          "execution_count": 6
        }
      ]
    },
    {
      "cell_type": "markdown",
      "metadata": {
        "id": "K_SKLuqgsfgK",
        "colab_type": "text"
      },
      "source": [
        "**Confusion Matrix**"
      ]
    },
    {
      "cell_type": "code",
      "metadata": {
        "id": "5KkwrodfUMG7",
        "colab_type": "code",
        "colab": {
          "base_uri": "https://localhost:8080/",
          "height": 67
        },
        "outputId": "367ef133-9a28-4546-f01a-473caa23dcb4"
      },
      "source": [
        "from sklearn.metrics import confusion_matrix, accuracy_score\n",
        "\n",
        "print(confusion_matrix(y_test,pred))"
      ],
      "execution_count": null,
      "outputs": [
        {
          "output_type": "stream",
          "text": [
            "[[13  0  0]\n",
            " [ 0 11  5]\n",
            " [ 0  0  9]]\n"
          ],
          "name": "stdout"
        }
      ]
    },
    {
      "cell_type": "code",
      "metadata": {
        "id": "PzUEYAwWVkZi",
        "colab_type": "code",
        "colab": {
          "base_uri": "https://localhost:8080/",
          "height": 344
        },
        "outputId": "7d4fd281-9811-4ab7-bcc9-4c8bb8a11b45"
      },
      "source": [
        "cm = confusion_matrix(y_test,pred)\n",
        "\n",
        "\n",
        "import matplotlib.pyplot as plt\n",
        "plt.matshow(cm)\n",
        "plt.title('Confusion matrix')\n",
        "plt.colorbar()\n",
        "plt.ylabel('True label')\n",
        "plt.xlabel('Predicted label')\n",
        "plt.show()"
      ],
      "execution_count": null,
      "outputs": [
        {
          "output_type": "display_data",
          "data": {
            "image/png": "[encoded data removed]",
            "text/plain": [
              "<matplotlib.figure.Figure at 0x7f890f026d50>"
            ]
          },
          "metadata": {
            "tags": []
          }
        }
      ]
    }
  ]
}